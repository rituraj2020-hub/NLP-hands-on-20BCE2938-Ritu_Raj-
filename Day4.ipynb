{
 "cells": [
  {
   "cell_type": "code",
   "execution_count": 2,
   "metadata": {},
   "outputs": [],
   "source": [
    "import pandas"
   ]
  },
  {
   "cell_type": "code",
   "execution_count": 3,
   "metadata": {},
   "outputs": [],
   "source": [
    "import sklearn"
   ]
  },
  {
   "cell_type": "code",
   "execution_count": 4,
   "metadata": {},
   "outputs": [],
   "source": [
    "from sklearn.feature_extraction.text import CountVectorizer\n",
    "vect=CountVectorizer(binary=True)\n"
   ]
  },
  {
   "cell_type": "code",
   "execution_count": 5,
   "metadata": {},
   "outputs": [
    {
     "data": {
      "text/html": [
       "<style>#sk-container-id-1 {color: black;background-color: white;}#sk-container-id-1 pre{padding: 0;}#sk-container-id-1 div.sk-toggleable {background-color: white;}#sk-container-id-1 label.sk-toggleable__label {cursor: pointer;display: block;width: 100%;margin-bottom: 0;padding: 0.3em;box-sizing: border-box;text-align: center;}#sk-container-id-1 label.sk-toggleable__label-arrow:before {content: \"▸\";float: left;margin-right: 0.25em;color: #696969;}#sk-container-id-1 label.sk-toggleable__label-arrow:hover:before {color: black;}#sk-container-id-1 div.sk-estimator:hover label.sk-toggleable__label-arrow:before {color: black;}#sk-container-id-1 div.sk-toggleable__content {max-height: 0;max-width: 0;overflow: hidden;text-align: left;background-color: #f0f8ff;}#sk-container-id-1 div.sk-toggleable__content pre {margin: 0.2em;color: black;border-radius: 0.25em;background-color: #f0f8ff;}#sk-container-id-1 input.sk-toggleable__control:checked~div.sk-toggleable__content {max-height: 200px;max-width: 100%;overflow: auto;}#sk-container-id-1 input.sk-toggleable__control:checked~label.sk-toggleable__label-arrow:before {content: \"▾\";}#sk-container-id-1 div.sk-estimator input.sk-toggleable__control:checked~label.sk-toggleable__label {background-color: #d4ebff;}#sk-container-id-1 div.sk-label input.sk-toggleable__control:checked~label.sk-toggleable__label {background-color: #d4ebff;}#sk-container-id-1 input.sk-hidden--visually {border: 0;clip: rect(1px 1px 1px 1px);clip: rect(1px, 1px, 1px, 1px);height: 1px;margin: -1px;overflow: hidden;padding: 0;position: absolute;width: 1px;}#sk-container-id-1 div.sk-estimator {font-family: monospace;background-color: #f0f8ff;border: 1px dotted black;border-radius: 0.25em;box-sizing: border-box;margin-bottom: 0.5em;}#sk-container-id-1 div.sk-estimator:hover {background-color: #d4ebff;}#sk-container-id-1 div.sk-parallel-item::after {content: \"\";width: 100%;border-bottom: 1px solid gray;flex-grow: 1;}#sk-container-id-1 div.sk-label:hover label.sk-toggleable__label {background-color: #d4ebff;}#sk-container-id-1 div.sk-serial::before {content: \"\";position: absolute;border-left: 1px solid gray;box-sizing: border-box;top: 0;bottom: 0;left: 50%;z-index: 0;}#sk-container-id-1 div.sk-serial {display: flex;flex-direction: column;align-items: center;background-color: white;padding-right: 0.2em;padding-left: 0.2em;position: relative;}#sk-container-id-1 div.sk-item {position: relative;z-index: 1;}#sk-container-id-1 div.sk-parallel {display: flex;align-items: stretch;justify-content: center;background-color: white;position: relative;}#sk-container-id-1 div.sk-item::before, #sk-container-id-1 div.sk-parallel-item::before {content: \"\";position: absolute;border-left: 1px solid gray;box-sizing: border-box;top: 0;bottom: 0;left: 50%;z-index: -1;}#sk-container-id-1 div.sk-parallel-item {display: flex;flex-direction: column;z-index: 1;position: relative;background-color: white;}#sk-container-id-1 div.sk-parallel-item:first-child::after {align-self: flex-end;width: 50%;}#sk-container-id-1 div.sk-parallel-item:last-child::after {align-self: flex-start;width: 50%;}#sk-container-id-1 div.sk-parallel-item:only-child::after {width: 0;}#sk-container-id-1 div.sk-dashed-wrapped {border: 1px dashed gray;margin: 0 0.4em 0.5em 0.4em;box-sizing: border-box;padding-bottom: 0.4em;background-color: white;}#sk-container-id-1 div.sk-label label {font-family: monospace;font-weight: bold;display: inline-block;line-height: 1.2em;}#sk-container-id-1 div.sk-label-container {text-align: center;}#sk-container-id-1 div.sk-container {/* jupyter's `normalize.less` sets `[hidden] { display: none; }` but bootstrap.min.css set `[hidden] { display: none !important; }` so we also need the `!important` here to be able to override the default hidden behavior on the sphinx rendered scikit-learn.org. See: https://github.com/scikit-learn/scikit-learn/issues/21755 */display: inline-block !important;position: relative;}#sk-container-id-1 div.sk-text-repr-fallback {display: none;}</style><div id=\"sk-container-id-1\" class=\"sk-top-container\"><div class=\"sk-text-repr-fallback\"><pre>CountVectorizer(binary=True)</pre><b>In a Jupyter environment, please rerun this cell to show the HTML representation or trust the notebook. <br />On GitHub, the HTML representation is unable to render, please try loading this page with nbviewer.org.</b></div><div class=\"sk-container\" hidden><div class=\"sk-item\"><div class=\"sk-estimator sk-toggleable\"><input class=\"sk-toggleable__control sk-hidden--visually\" id=\"sk-estimator-id-1\" type=\"checkbox\" checked><label for=\"sk-estimator-id-1\" class=\"sk-toggleable__label sk-toggleable__label-arrow\">CountVectorizer</label><div class=\"sk-toggleable__content\"><pre>CountVectorizer(binary=True)</pre></div></div></div></div></div>"
      ],
      "text/plain": [
       "CountVectorizer(binary=True)"
      ]
     },
     "execution_count": 5,
     "metadata": {},
     "output_type": "execute_result"
    }
   ],
   "source": [
    "corpus=[\"I have a German Shepherd\",\"German Shepherd is from Germany\",\"Germans love gossiping\"]\n",
    "vect.fit(corpus)"
   ]
  },
  {
   "cell_type": "code",
   "execution_count": 6,
   "metadata": {},
   "outputs": [],
   "source": [
    "vocab=vect.vocabulary_"
   ]
  },
  {
   "cell_type": "code",
   "execution_count": 7,
   "metadata": {},
   "outputs": [
    {
     "name": "stdout",
     "output_type": "stream",
     "text": [
      "from:0\n",
      "german:1\n",
      "germans:2\n",
      "germany:3\n",
      "gossiping:4\n",
      "have:5\n",
      "is:6\n",
      "love:7\n",
      "shepherd:8\n"
     ]
    }
   ],
   "source": [
    "for key in sorted(vocab.keys()):\n",
    "    print(\"{}:{}\".format(key,vocab[key]))"
   ]
  },
  {
   "cell_type": "code",
   "execution_count": 9,
   "metadata": {},
   "outputs": [
    {
     "name": "stdout",
     "output_type": "stream",
     "text": [
      "[[0 1 0 1 0 0 0 0 1]]\n"
     ]
    }
   ],
   "source": [
    "print(vect.transform([\"Germany has German Shepherd\"]).toarray())"
   ]
  },
  {
   "cell_type": "code",
   "execution_count": 10,
   "metadata": {},
   "outputs": [],
   "source": [
    "from sklearn.metrics.pairwise import cosine_similarity\n",
    "similarity=cosine_similarity(vect.transform([\"Germany has German Shepherd\"]).toarray(),vect.transform([\"Germany has Berlin as capital\"]).toarray())"
   ]
  },
  {
   "cell_type": "code",
   "execution_count": 11,
   "metadata": {},
   "outputs": [
    {
     "name": "stdout",
     "output_type": "stream",
     "text": [
      "[[0.57735027]]\n"
     ]
    }
   ],
   "source": [
    "print(similarity)"
   ]
  },
  {
   "cell_type": "code",
   "execution_count": 12,
   "metadata": {},
   "outputs": [],
   "source": [
    "# corpus a first para of 4-5 articles, fit a vectorizer , take a recent article and take an old article and find the similarity between them"
   ]
  },
  {
   "cell_type": "code",
   "execution_count": 17,
   "metadata": {},
   "outputs": [],
   "source": [
    "corpus=[\"If there is a phrase I would prefer to retire from online bios, personal or professional, it is, “I love travel.” Or some approximation of that sentiment. To clarify, I am not against travellers or those who proudly flaunt their passion for travel. On the contrary, editing a travel magazine has now made me oddly protective of travellers and their ilk. My submission is that “love to travel,” suggested so casually, just doesn’t feel adequate to the depth of emotion it sparks in true devotees.\",\"A group of Galicians are studying the sunburn on my father’s face at a sardine festival in Muxia, Spain; “I know, I’m as red as a lobster,” he says with embarrassment, prompting a huddled group discussion, after which, almost in stoic unison the response is, “No, not a lobster, more like the colour of little shrimp…” A grandmother, who had not previously participated in the conversation, nods her head knowingly, “Si, camarón.” They take their seafood very seriously in this northern part of Spain, as they do their weather, and this year hasn’t been kind on either count.\",\"Directed and produced by renowned culinary expert Chef Vikas Khanna, the film is based on the chef’s book of the same name. While Holi is an overarching theme of the narrative, set in the religious heart of Varanasi, the film explores sensitive themes such as archaic customs involving widows, caste dynamics in the modern day, the treatment of mainstream society of the trans community and the vulnerability of the millions of destitute kids on our streets.\"]"
   ]
  },
  {
   "cell_type": "code",
   "execution_count": 18,
   "metadata": {},
   "outputs": [],
   "source": [
    "from sklearn.feature_extraction.text import TfidfVectorizer\n",
    "vect=TfidfVectorizer(binary=True)"
   ]
  },
  {
   "cell_type": "code",
   "execution_count": 19,
   "metadata": {},
   "outputs": [
    {
     "data": {
      "text/html": [
       "<style>#sk-container-id-3 {color: black;background-color: white;}#sk-container-id-3 pre{padding: 0;}#sk-container-id-3 div.sk-toggleable {background-color: white;}#sk-container-id-3 label.sk-toggleable__label {cursor: pointer;display: block;width: 100%;margin-bottom: 0;padding: 0.3em;box-sizing: border-box;text-align: center;}#sk-container-id-3 label.sk-toggleable__label-arrow:before {content: \"▸\";float: left;margin-right: 0.25em;color: #696969;}#sk-container-id-3 label.sk-toggleable__label-arrow:hover:before {color: black;}#sk-container-id-3 div.sk-estimator:hover label.sk-toggleable__label-arrow:before {color: black;}#sk-container-id-3 div.sk-toggleable__content {max-height: 0;max-width: 0;overflow: hidden;text-align: left;background-color: #f0f8ff;}#sk-container-id-3 div.sk-toggleable__content pre {margin: 0.2em;color: black;border-radius: 0.25em;background-color: #f0f8ff;}#sk-container-id-3 input.sk-toggleable__control:checked~div.sk-toggleable__content {max-height: 200px;max-width: 100%;overflow: auto;}#sk-container-id-3 input.sk-toggleable__control:checked~label.sk-toggleable__label-arrow:before {content: \"▾\";}#sk-container-id-3 div.sk-estimator input.sk-toggleable__control:checked~label.sk-toggleable__label {background-color: #d4ebff;}#sk-container-id-3 div.sk-label input.sk-toggleable__control:checked~label.sk-toggleable__label {background-color: #d4ebff;}#sk-container-id-3 input.sk-hidden--visually {border: 0;clip: rect(1px 1px 1px 1px);clip: rect(1px, 1px, 1px, 1px);height: 1px;margin: -1px;overflow: hidden;padding: 0;position: absolute;width: 1px;}#sk-container-id-3 div.sk-estimator {font-family: monospace;background-color: #f0f8ff;border: 1px dotted black;border-radius: 0.25em;box-sizing: border-box;margin-bottom: 0.5em;}#sk-container-id-3 div.sk-estimator:hover {background-color: #d4ebff;}#sk-container-id-3 div.sk-parallel-item::after {content: \"\";width: 100%;border-bottom: 1px solid gray;flex-grow: 1;}#sk-container-id-3 div.sk-label:hover label.sk-toggleable__label {background-color: #d4ebff;}#sk-container-id-3 div.sk-serial::before {content: \"\";position: absolute;border-left: 1px solid gray;box-sizing: border-box;top: 0;bottom: 0;left: 50%;z-index: 0;}#sk-container-id-3 div.sk-serial {display: flex;flex-direction: column;align-items: center;background-color: white;padding-right: 0.2em;padding-left: 0.2em;position: relative;}#sk-container-id-3 div.sk-item {position: relative;z-index: 1;}#sk-container-id-3 div.sk-parallel {display: flex;align-items: stretch;justify-content: center;background-color: white;position: relative;}#sk-container-id-3 div.sk-item::before, #sk-container-id-3 div.sk-parallel-item::before {content: \"\";position: absolute;border-left: 1px solid gray;box-sizing: border-box;top: 0;bottom: 0;left: 50%;z-index: -1;}#sk-container-id-3 div.sk-parallel-item {display: flex;flex-direction: column;z-index: 1;position: relative;background-color: white;}#sk-container-id-3 div.sk-parallel-item:first-child::after {align-self: flex-end;width: 50%;}#sk-container-id-3 div.sk-parallel-item:last-child::after {align-self: flex-start;width: 50%;}#sk-container-id-3 div.sk-parallel-item:only-child::after {width: 0;}#sk-container-id-3 div.sk-dashed-wrapped {border: 1px dashed gray;margin: 0 0.4em 0.5em 0.4em;box-sizing: border-box;padding-bottom: 0.4em;background-color: white;}#sk-container-id-3 div.sk-label label {font-family: monospace;font-weight: bold;display: inline-block;line-height: 1.2em;}#sk-container-id-3 div.sk-label-container {text-align: center;}#sk-container-id-3 div.sk-container {/* jupyter's `normalize.less` sets `[hidden] { display: none; }` but bootstrap.min.css set `[hidden] { display: none !important; }` so we also need the `!important` here to be able to override the default hidden behavior on the sphinx rendered scikit-learn.org. See: https://github.com/scikit-learn/scikit-learn/issues/21755 */display: inline-block !important;position: relative;}#sk-container-id-3 div.sk-text-repr-fallback {display: none;}</style><div id=\"sk-container-id-3\" class=\"sk-top-container\"><div class=\"sk-text-repr-fallback\"><pre>TfidfVectorizer(binary=True)</pre><b>In a Jupyter environment, please rerun this cell to show the HTML representation or trust the notebook. <br />On GitHub, the HTML representation is unable to render, please try loading this page with nbviewer.org.</b></div><div class=\"sk-container\" hidden><div class=\"sk-item\"><div class=\"sk-estimator sk-toggleable\"><input class=\"sk-toggleable__control sk-hidden--visually\" id=\"sk-estimator-id-3\" type=\"checkbox\" checked><label for=\"sk-estimator-id-3\" class=\"sk-toggleable__label sk-toggleable__label-arrow\">TfidfVectorizer</label><div class=\"sk-toggleable__content\"><pre>TfidfVectorizer(binary=True)</pre></div></div></div></div></div>"
      ],
      "text/plain": [
       "TfidfVectorizer(binary=True)"
      ]
     },
     "execution_count": 19,
     "metadata": {},
     "output_type": "execute_result"
    }
   ],
   "source": [
    "vect.fit(corpus)"
   ]
  },
  {
   "cell_type": "code",
   "execution_count": 20,
   "metadata": {},
   "outputs": [],
   "source": [
    "vocab=vect.vocabulary_"
   ]
  },
  {
   "cell_type": "code",
   "execution_count": 21,
   "metadata": {},
   "outputs": [
    {
     "name": "stdout",
     "output_type": "stream",
     "text": [
      "adequate:0\n",
      "after:1\n",
      "against:2\n",
      "almost:3\n",
      "am:4\n",
      "an:5\n",
      "and:6\n",
      "approximation:7\n",
      "archaic:8\n",
      "are:9\n",
      "as:10\n",
      "at:11\n",
      "based:12\n",
      "been:13\n",
      "bios:14\n",
      "book:15\n",
      "by:16\n",
      "camarón:17\n",
      "caste:18\n",
      "casually:19\n",
      "chef:20\n",
      "clarify:21\n",
      "colour:22\n",
      "community:23\n",
      "contrary:24\n",
      "conversation:25\n",
      "count:26\n",
      "culinary:27\n",
      "customs:28\n",
      "day:29\n",
      "depth:30\n",
      "destitute:31\n",
      "devotees:32\n",
      "directed:33\n",
      "discussion:34\n",
      "do:35\n",
      "doesn:36\n",
      "dynamics:37\n",
      "editing:38\n",
      "either:39\n",
      "embarrassment:40\n",
      "emotion:41\n",
      "expert:42\n",
      "explores:43\n",
      "face:44\n",
      "father:45\n",
      "feel:46\n",
      "festival:47\n",
      "film:48\n",
      "flaunt:49\n",
      "for:50\n",
      "from:51\n",
      "galicians:52\n",
      "grandmother:53\n",
      "group:54\n",
      "had:55\n",
      "has:56\n",
      "hasn:57\n",
      "he:58\n",
      "head:59\n",
      "heart:60\n",
      "her:61\n",
      "holi:62\n",
      "huddled:63\n",
      "if:64\n",
      "ilk:65\n",
      "in:66\n",
      "involving:67\n",
      "is:68\n",
      "it:69\n",
      "just:70\n",
      "khanna:71\n",
      "kids:72\n",
      "kind:73\n",
      "know:74\n",
      "knowingly:75\n",
      "like:76\n",
      "little:77\n",
      "lobster:78\n",
      "love:79\n",
      "made:80\n",
      "magazine:81\n",
      "mainstream:82\n",
      "me:83\n",
      "millions:84\n",
      "modern:85\n",
      "more:86\n",
      "muxia:87\n",
      "my:88\n",
      "name:89\n",
      "narrative:90\n",
      "no:91\n",
      "nods:92\n",
      "northern:93\n",
      "not:94\n",
      "now:95\n",
      "oddly:96\n",
      "of:97\n",
      "on:98\n",
      "online:99\n",
      "or:100\n",
      "our:101\n",
      "overarching:102\n",
      "part:103\n",
      "participated:104\n",
      "passion:105\n",
      "personal:106\n",
      "phrase:107\n",
      "prefer:108\n",
      "previously:109\n",
      "produced:110\n",
      "professional:111\n",
      "prompting:112\n",
      "protective:113\n",
      "proudly:114\n",
      "red:115\n",
      "religious:116\n",
      "renowned:117\n",
      "response:118\n",
      "retire:119\n",
      "same:120\n",
      "sardine:121\n",
      "says:122\n",
      "seafood:123\n",
      "sensitive:124\n",
      "sentiment:125\n",
      "seriously:126\n",
      "set:127\n",
      "shrimp:128\n",
      "si:129\n",
      "so:130\n",
      "society:131\n",
      "some:132\n",
      "spain:133\n",
      "sparks:134\n",
      "stoic:135\n",
      "streets:136\n",
      "studying:137\n",
      "submission:138\n",
      "such:139\n",
      "suggested:140\n",
      "sunburn:141\n",
      "take:142\n",
      "that:143\n",
      "the:144\n",
      "their:145\n",
      "theme:146\n",
      "themes:147\n",
      "there:148\n",
      "they:149\n",
      "this:150\n",
      "those:151\n",
      "to:152\n",
      "trans:153\n",
      "travel:154\n",
      "travellers:155\n",
      "treatment:156\n",
      "true:157\n",
      "unison:158\n",
      "varanasi:159\n",
      "very:160\n",
      "vikas:161\n",
      "vulnerability:162\n",
      "weather:163\n",
      "which:164\n",
      "while:165\n",
      "who:166\n",
      "widows:167\n",
      "with:168\n",
      "would:169\n",
      "year:170\n"
     ]
    }
   ],
   "source": [
    "for key in sorted(vocab.keys()):\n",
    "    print(\"{}:{}\".format(key,vocab[key]))"
   ]
  },
  {
   "cell_type": "code",
   "execution_count": 24,
   "metadata": {},
   "outputs": [
    {
     "data": {
      "text/plain": [
       "array([[0.46901112]])"
      ]
     },
     "execution_count": 24,
     "metadata": {},
     "output_type": "execute_result"
    }
   ],
   "source": [
    "from sklearn.metrics.pairwise import cosine_similarity\n",
    "article1=\"Tamil Nadu has the second-longest coast in India. Cruise along the coast with halts at The Gulf of Mannar – for its biodiversity, Ramanathapuram – to discover a world of adventure and spirituality; Mamallapuram – to delve in history and architecture; Kovalam beach – for its shallow and clear waters among other things; Chennai – for its fine beaches, and marvellous architecture; and Kanyakumari – to visit tourist hotspots like the Vivekananda Rock Memorial and the Thiruvalluvar Statue, an iconic structure signifying love and wealth in the exuberant coastline of Tamil Nadu.\"\n",
    "article2=\"A relaxing vacation is the perfect mood elevator and an antidote to stress. Nothing spells a great getaway like a crisp itinerary, packed suitcase, and a comfortable pair of shoes. The latter is more important than one might realise as it gives you the necessary boost to walk an extra mile to explore a new city or hike the end of the stretch that leads to a serene waterfall. Whatever is on your agenda, Skechers fits the bill for every occasion. We bring you three weekend getaways from Mumbai, where your footwear matches your pace and plays an ideal travel companion.\"\n",
    "similarity=cosine_similarity(vect.transform([article1]).toarray(),vect.transform([article2]).toarray())\n",
    "similarity"
   ]
  },
  {
   "cell_type": "code",
   "execution_count": null,
   "metadata": {},
   "outputs": [],
   "source": []
  }
 ],
 "metadata": {
  "kernelspec": {
   "display_name": "Python 3",
   "language": "python",
   "name": "python3"
  },
  "language_info": {
   "codemirror_mode": {
    "name": "ipython",
    "version": 3
   },
   "file_extension": ".py",
   "mimetype": "text/x-python",
   "name": "python",
   "nbconvert_exporter": "python",
   "pygments_lexer": "ipython3",
   "version": "3.9.6"
  },
  "orig_nbformat": 4,
  "vscode": {
   "interpreter": {
    "hash": "3ee2ff7779dc8f7ade0334fb0d4569cc8f860fafa4ae25cf1bfbc35cee63df49"
   }
  }
 },
 "nbformat": 4,
 "nbformat_minor": 2
}
